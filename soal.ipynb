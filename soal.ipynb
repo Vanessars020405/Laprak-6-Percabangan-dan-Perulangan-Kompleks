{
 "cells": [
  {
   "cell_type": "code",
   "execution_count": 1,
   "metadata": {},
   "outputs": [
    {
     "name": "stdout",
     "output_type": "stream",
     "text": [
      "bilangan prima terdekat < 12 adalah 11\n"
     ]
    }
   ],
   "source": [
    "#Soal 1\n",
    "def bil_prim(angka):\n",
    "    if angka <=1:\n",
    "        return False \n",
    "    for i in range(2, int(angka**0.5)+1):\n",
    "        if angka % i == 0:\n",
    "            return False\n",
    "    return True\n",
    "\n",
    "def prim_terdekat(m):\n",
    "    if m <=2:\n",
    "        return None\n",
    "    for j in range(m-1, 1, -1):\n",
    "        if bil_prim(j):\n",
    "            break\n",
    "    return j\n",
    "\n",
    "m = int(input('masukan angka= '))\n",
    "\n",
    "bil_prim = prim_terdekat(m)\n",
    "\n",
    "if bil_prim != None:\n",
    "    print (f\"bilangan prima terdekat < {m} adalah {bil_prim}\")\n",
    "else:\n",
    "    print (f\"tidak ada bilangan prima terdekat < {m}\")"
   ]
  },
  {
   "cell_type": "code",
   "execution_count": 2,
   "metadata": {},
   "outputs": [
    {
     "name": "stdout",
     "output_type": "stream",
     "text": [
      "bilangan prima terdekat < 21 adalah 19\n"
     ]
    }
   ],
   "source": [
    "def bil_prim(angka):\n",
    "    if angka <=1:\n",
    "        return False \n",
    "    for i in range(2, int(angka**0.5)+1):\n",
    "        if angka % i == 0:\n",
    "            return False\n",
    "    return True\n",
    "\n",
    "def prim_terdekat(m):\n",
    "    if m <=2:\n",
    "        return None\n",
    "    for j in range(m-1, 1, -1):\n",
    "        if bil_prim(j):\n",
    "            break\n",
    "    return j\n",
    "\n",
    "m = int(input('masukan angka= '))\n",
    "\n",
    "bil_prim = prim_terdekat(m)\n",
    "\n",
    "if bil_prim != None:\n",
    "    print (f\"bilangan prima terdekat < {m} adalah {bil_prim}\")\n",
    "else:\n",
    "    print (f\"tidak ada bilangan prima terdekat < {m}\")"
   ]
  },
  {
   "cell_type": "code",
   "execution_count": 2,
   "metadata": {},
   "outputs": [
    {
     "name": "stdout",
     "output_type": "stream",
     "text": [
      "720 6 5 4 3 2 1 \n",
      "120 5 4 3 2 1 \n",
      "24 4 3 2 1 \n",
      "6 3 2 1 \n",
      "2 2 1 \n",
      "1 1 \n"
     ]
    }
   ],
   "source": [
    "#Soal 2\n",
    "def kali(hasil):\n",
    "    if hasil == 0 or hasil == 1:\n",
    "        return 1\n",
    "    else: \n",
    "        return hasil * kali(hasil-1)\n",
    "    \n",
    "def der(a):\n",
    "    i = a\n",
    "    while i > 0:\n",
    "        print(kali(i), end=\" \")\n",
    "        j = i\n",
    "        while j > 0:\n",
    "            print(j, end=\" \")\n",
    "            j -= 1\n",
    "        print()\n",
    "        i -= 1\n",
    "\n",
    "a = int(input(\" n: \"))\n",
    "der(a)"
   ]
  },
  {
   "cell_type": "code",
   "execution_count": 5,
   "metadata": {},
   "outputs": [
    {
     "name": "stdout",
     "output_type": "stream",
     "text": [
      "1 2 3 4 \n",
      "5 6 7 8 \n",
      "9 10 11 12 \n",
      "13 14 15 16 \n",
      "17 18 19 20 \n"
     ]
    }
   ],
   "source": [
    "#Soal 3\n",
    "def deret(tinggi, lebar):\n",
    "    mulai = 1\n",
    "    for a in range(tinggi):\n",
    "        for b in range(lebar):\n",
    "            print(mulai, end=\" \")\n",
    "            mulai += 1\n",
    "        print()\n",
    "\n",
    "tinggi = int(input(\"masukkan tinggi= \"))\n",
    "lebar = int(input(\"masukkan lebar= \"))\n",
    "\n",
    "(deret(tinggi,lebar))"
   ]
  }
 ],
 "metadata": {
  "kernelspec": {
   "display_name": "Python 3",
   "language": "python",
   "name": "python3"
  },
  "language_info": {
   "codemirror_mode": {
    "name": "ipython",
    "version": 3
   },
   "file_extension": ".py",
   "mimetype": "text/x-python",
   "name": "python",
   "nbconvert_exporter": "python",
   "pygments_lexer": "ipython3",
   "version": "3.12.0"
  }
 },
 "nbformat": 4,
 "nbformat_minor": 2
}
